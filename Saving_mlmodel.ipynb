{
 "cells": [
  {
   "cell_type": "code",
   "execution_count": 1,
   "metadata": {},
   "outputs": [],
   "source": [
    "import pandas as pd\n",
    "from sklearn.feature_extraction.text import TfidfVectorizer\n",
    "from sklearn.model_selection import train_test_split\n",
    "from sklearn.metrics import classification_report\n",
    "from sklearn.metrics import confusion_matrix\n",
    "from sklearn.metrics import roc_auc_score\n",
    "from sklearn.naive_bayes import GaussianNB\n",
    "import scipy.sparse as sp\n",
    "\n",
    "# Load your dataset\n",
    "df = pd.read_csv('.\\\\data\\\\news_data.csv',  encoding='latin-1', header=None)\n",
    "df.columns = ['class', 'news']\n",
    "label_mapping = {'positive': 1, 'negative': -1, 'neutral': 0}\n",
    "df['class'] = df['class'].map(label_mapping)\n",
    "\n",
    "\n",
    "vectorizer = TfidfVectorizer() #max_features=1000\n",
    "\n",
    "X = vectorizer.fit_transform(df['news'])\n",
    "y = df['class']\n",
    "\n",
    "from sklearn.model_selection import train_test_split\n",
    "X_train, X_test, y_train, y_test = train_test_split(X,y, \n",
    "                                    test_size = 0.40, \n",
    "                                    random_state=1)\n",
    "\n",
    "\n",
    "\n",
    "gnb = GaussianNB(var_smoothing=0.2)\n",
    "model = gnb.fit(X_train.toarray(), y_train)"
   ]
  },
  {
   "cell_type": "code",
   "execution_count": 3,
   "metadata": {},
   "outputs": [],
   "source": [
    "import pickle\n",
    "\n",
    "# Save the model to a .pkl file\n",
    "with open('./models/vectorizer_pkl.pkl', 'wb') as vectorizer_file:\n",
    "    pickle.dump(vectorizer, vectorizer_file)\n",
    "    \n",
    "with open('./models/model_pickle.pkl', 'wb') as file:\n",
    "    pickle.dump(model, file)"
   ]
  },
  {
   "cell_type": "code",
   "execution_count": 4,
   "metadata": {},
   "outputs": [
    {
     "data": {
      "text/plain": [
       "['./models/model_joblib.pkl']"
      ]
     },
     "execution_count": 4,
     "metadata": {},
     "output_type": "execute_result"
    }
   ],
   "source": [
    "import joblib\n",
    "\n",
    "# Save the model to a .pkl file\n",
    "joblib.dump(vectorizer, './models/vectorizer.pkl')\n",
    "joblib.dump(model, './models/model_joblib.pkl')"
   ]
  }
 ],
 "metadata": {
  "kernelspec": {
   "display_name": "base",
   "language": "python",
   "name": "python3"
  },
  "language_info": {
   "codemirror_mode": {
    "name": "ipython",
    "version": 3
   },
   "file_extension": ".py",
   "mimetype": "text/x-python",
   "name": "python",
   "nbconvert_exporter": "python",
   "pygments_lexer": "ipython3",
   "version": "3.12.3"
  }
 },
 "nbformat": 4,
 "nbformat_minor": 2
}
