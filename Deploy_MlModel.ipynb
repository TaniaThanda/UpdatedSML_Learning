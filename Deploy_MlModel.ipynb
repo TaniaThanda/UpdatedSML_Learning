{
 "cells": [
  {
   "cell_type": "code",
   "execution_count": 1,
   "metadata": {},
   "outputs": [
    {
     "name": "stderr",
     "output_type": "stream",
     "text": [
      "c:\\Users\\Tania Thanda\\AppData\\Local\\Programs\\Python\\Python312\\Lib\\site-packages\\sklearn\\base.py:376: InconsistentVersionWarning: Trying to unpickle estimator TfidfTransformer from version 1.0.2 when using version 1.4.2. This might lead to breaking code or invalid results. Use at your own risk. For more info please refer to:\n",
      "https://scikit-learn.org/stable/model_persistence.html#security-maintainability-limitations\n",
      "  warnings.warn(\n",
      "c:\\Users\\Tania Thanda\\AppData\\Local\\Programs\\Python\\Python312\\Lib\\site-packages\\sklearn\\base.py:376: InconsistentVersionWarning: Trying to unpickle estimator TfidfVectorizer from version 1.0.2 when using version 1.4.2. This might lead to breaking code or invalid results. Use at your own risk. For more info please refer to:\n",
      "https://scikit-learn.org/stable/model_persistence.html#security-maintainability-limitations\n",
      "  warnings.warn(\n",
      "c:\\Users\\Tania Thanda\\AppData\\Local\\Programs\\Python\\Python312\\Lib\\site-packages\\sklearn\\base.py:376: InconsistentVersionWarning: Trying to unpickle estimator GaussianNB from version 1.0.2 when using version 1.4.2. This might lead to breaking code or invalid results. Use at your own risk. For more info please refer to:\n",
      "https://scikit-learn.org/stable/model_persistence.html#security-maintainability-limitations\n",
      "  warnings.warn(\n"
     ]
    },
    {
     "name": "stdout",
     "output_type": "stream",
     "text": [
      "Input:  \n",
      "Result:  negative  with confidence  100%\n"
     ]
    }
   ],
   "source": [
    "import pickle\n",
    "\n",
    "# Replace 'your_file.pkl' with the path to your .pkl file\n",
    "file_path = './models/model_pickle.pkl'\n",
    "\n",
    "try:\n",
    "    with open('./models/vectorizer_pkl.pkl', 'rb') as vectorizer_file:\n",
    "        loaded_vectorizer = pickle.load(vectorizer_file)\n",
    "    with open(file_path, 'rb') as file:\n",
    "        loaded_model = pickle.load(file)\n",
    "        text = input(\"Enter news header of the feedback text for sentiment analysis:\")\n",
    "        text_transform = loaded_vectorizer.transform([text])\n",
    "        result = loaded_model.predict(text_transform.toarray())\n",
    "        confidence = loaded_model.predict_proba(text_transform.toarray())\n",
    "        sentiment_class= {1: 'positive', -1: 'negative', 0:'neutral'}\n",
    "        print('Input: ', text)\n",
    "        print(\"Result: \", sentiment_class[result[0]], ' with confidence ' , '{:.0f}%'.format(confidence.max() * 100))\n",
    "except FileNotFoundError:\n",
    "    print(f\"File {file_path} not found.\")\n",
    "except Exception as e:\n",
    "    print(f\"An error occurred while reading the .pkl file: {str(e)}\")\n"
   ]
  },
  {
   "cell_type": "code",
   "execution_count": 2,
   "metadata": {},
   "outputs": [
    {
     "name": "stdout",
     "output_type": "stream",
     "text": [
      "File ./models/model_pickle.pkl not found.\n"
     ]
    }
   ],
   "source": [
    "import joblib\n",
    "\n",
    "vector_path = './models/vectorizer.pkl'\n",
    "model_path =  './models/model_joblib.pkl'\n",
    "\n",
    "try:\n",
    "    loaded_vectorizer = joblib.load('vectorizer.pkl')\n",
    "    loaded_model = joblib.load(file_path)\n",
    "    \n",
    "except FileNotFoundError:\n",
    "    print(f\"File {file_path} not found.\")\n",
    "except Exception as e:\n",
    "    print(f\"An error occurred while reading the .pkl file: {str(e)}\")\n"
   ]
  },
  {
   "cell_type": "code",
   "execution_count": null,
   "metadata": {},
   "outputs": [],
   "source": [
    "\n",
    "\n"
   ]
  },
  {
   "cell_type": "code",
   "execution_count": null,
   "metadata": {},
   "outputs": [],
   "source": []
  }
 ],
 "metadata": {
  "kernelspec": {
   "display_name": "base",
   "language": "python",
   "name": "python3"
  },
  "language_info": {
   "codemirror_mode": {
    "name": "ipython",
    "version": 3
   },
   "file_extension": ".py",
   "mimetype": "text/x-python",
   "name": "python",
   "nbconvert_exporter": "python",
   "pygments_lexer": "ipython3",
   "version": "3.12.3"
  }
 },
 "nbformat": 4,
 "nbformat_minor": 2
}
