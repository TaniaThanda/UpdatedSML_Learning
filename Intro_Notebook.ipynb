{
  "cells": [
    {
      "cell_type": "markdown",
      "metadata": {
        "id": "vD5NtsHxJADE"
      },
      "source": [
        "This Python notebook aims to familiarize students with working on Jupyter Notebooks.\n",
        "\n",
        "Choose one of the following questions and answer in the corrsponding cell where your name is.\n",
        "\n",
        "1) Why do you think some teachers can answer most of your questions, while others cannot?\n",
        "\n",
        "2) When you ask questions like why you should study data analysis or which course is better, why do some teachers give general answers?\n",
        "\n",
        "3) Choose any topic related to social change, machine learning, or Python programming, and provide your insights or reflections on it.\n",
        "\n",
        "Happy learning!\n",
        "\n"
      ]
    },
    {
      "cell_type": "markdown",
      "metadata": {
        "id": "87Sh8JeaRKoQ"
      },
      "source": [
        "Test student.\n",
        "1) added from test"
      ]
    },
    {
      "cell_type": "markdown",
      "metadata": {
        "id": "_gT_Vf_3pN5Y"
      },
      "source": [
        "Aye Thiri Aung"
      ]
    },
    {
      "cell_type": "markdown",
      "metadata": {
        "id": "SndfbOHkpXaX"
      },
      "source": [
        "Zin Zin Aung\n",
        "\n"
      ]
    },
    {
      "cell_type": "markdown",
      "metadata": {
        "id": "s3uVzkutpZfY"
      },
      "source": [
        "Thet Mon Aye\n"
      ]
    },
    {
      "cell_type": "markdown",
      "metadata": {
        "id": "Qt5rTEJjpc2f"
      },
      "source": [
        "Sandi Htut Htut\n"
      ]
    },
    {
      "cell_type": "markdown",
      "metadata": {
        "id": "AKsEDTPequYI"
      },
      "source": [
        "Gokul Khanal"
      ]
    },
    {
      "cell_type": "code",
      "execution_count": null,
      "metadata": {},
      "outputs": [],
      "source": []
    },
    {
      "cell_type": "code",
      "execution_count": null,
      "metadata": {},
      "outputs": [],
      "source": []
    },
    {
      "cell_type": "markdown",
      "metadata": {
        "id": "Ie-qcCoOqybR"
      },
      "source": [
        "Hsu Yee Mon\n"
      ]
    },
    {
      "cell_type": "markdown",
      "metadata": {
        "id": "37RVRao5q9gP"
      },
      "source": [
        "Ei Ei Phyu"
      ]
    },
    {
      "cell_type": "markdown",
      "metadata": {
        "id": "OzX0v8_HrR2_"
      },
      "source": [
        "Swum Pyae Sone"
      ]
    },
    {
      "cell_type": "markdown",
      "metadata": {
        "id": "Biw2chv2rSoJ"
      },
      "source": [
        "Eaint Khaing Su"
      ]
    },
    {
      "cell_type": "markdown",
      "metadata": {
        "id": "WvArWQkErVxb"
      },
      "source": [
        "Mary Zai Hnem Sung"
      ]
    },
    {
      "cell_type": "markdown",
      "metadata": {
        "id": "27N3LfRXreIe"
      },
      "source": [
        "Nan Pyae Nyein Thar"
      ]
    },
    {
      "cell_type": "markdown",
      "metadata": {
        "id": "LEP5b0PRrezv"
      },
      "source": [
        "Kant Kaw Thinn"
      ]
    },
    {
      "cell_type": "markdown",
      "metadata": {
        "id": "jxGycwozrjnl"
      },
      "source": [
        "Si Thu"
      ]
    }
  ],
  "metadata": {
    "colab": {
      "provenance": []
    },
    "kernelspec": {
      "display_name": "Python 3",
      "name": "python3"
    },
    "language_info": {
      "name": "python"
    },
    "orig_nbformat": 4
  },
  "nbformat": 4,
  "nbformat_minor": 0
}
